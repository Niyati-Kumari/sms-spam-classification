{
 "cells": [
  {
   "cell_type": "code",
   "execution_count": 13,
   "id": "5891bf7b-3889-4b88-bafa-4c0efde5e55a",
   "metadata": {},
   "outputs": [
    {
     "name": "stdout",
     "output_type": "stream",
     "text": [
      "Index(['v1', 'v2', 'Unnamed: 2', 'Unnamed: 3', 'Unnamed: 4'], dtype='object')\n"
     ]
    },
    {
     "name": "stderr",
     "output_type": "stream",
     "text": [
      "C:\\Users\\DELL\\AppData\\Local\\Temp\\ipykernel_26832\\2943178942.py:11: FutureWarning: Downcasting behavior in `replace` is deprecated and will be removed in a future version. To retain the old behavior, explicitly call `result.infer_objects(copy=False)`. To opt-in to the future behavior, set `pd.set_option('future.no_silent_downcasting', True)`\n",
      "  data['v1'] = data['v1'].replace(['ham', 'spam'], [0, 1])\n"
     ]
    },
    {
     "name": "stdout",
     "output_type": "stream",
     "text": [
      "                                                message  label  word_count  \\\n",
      "0     Go until jurong point, crazy.. Available only ...      0          20   \n",
      "1                         Ok lar... Joking wif u oni...      0           6   \n",
      "2     Free entry in 2 a wkly comp to win FA Cup fina...      1          28   \n",
      "3     U dun say so early hor... U c already then say...      0          11   \n",
      "4     Nah I don't think he goes to usf, he lives aro...      0          13   \n",
      "...                                                 ...    ...         ...   \n",
      "5567  This is the 2nd time we have tried 2 contact u...      1          30   \n",
      "5568              Will Ì_ b going to esplanade fr home?      0           8   \n",
      "5569  Pity, * was in mood for that. So...any other s...      0          10   \n",
      "5570  The guy did some bitching but I acted like i'd...      0          26   \n",
      "5571                         Rofl. Its true to its name      0           6   \n",
      "\n",
      "      char_count  special_count  capital_count  numerical_count  \n",
      "0            111              9              3                0  \n",
      "1             29              6              2                0  \n",
      "2            155              6             10               25  \n",
      "3             49              6              2                0  \n",
      "4             61              2              2                0  \n",
      "...          ...            ...            ...              ...  \n",
      "5567         161             10              9               21  \n",
      "5568          37              3              2                0  \n",
      "5569          57              7              2                0  \n",
      "5570         125              1              2                0  \n",
      "5571          26              1              2                0  \n",
      "\n",
      "[5572 rows x 7 columns]\n"
     ]
    }
   ],
   "source": [
    "import pandas as pd\n",
    "import re\n",
    "\n",
    "# Load the data\n",
    "data = pd.read_csv(\"Downloads/spam.csv\", encoding='latin-1')\n",
    "\n",
    "# Check the column names\n",
    "print(data.columns)\n",
    "\n",
    "# Replace 'ham' and 'spam' with 0 and 1 in the correct label column\n",
    "data['v1'] = data['v1'].replace(['ham', 'spam'], [0, 1])\n",
    "\n",
    "# Function to analyze messages\n",
    "def analyze_message(message):\n",
    "    word_count = len(message.split())\n",
    "    char_count = len(message)\n",
    "    special_count = len(re.findall(r'[^a-zA-Z0-9\\s]', message))\n",
    "    capital_count = sum(1 for c in message if c.isupper())\n",
    "    numerical_count = sum(c.isdigit() for c in message)\n",
    "    \n",
    "    return word_count, char_count, special_count, capital_count, numerical_count\n",
    "\n",
    "# Prepare the DataFrame to store results\n",
    "columns = ['message', 'label', 'word_count', 'char_count', 'special_count', 'capital_count', 'numerical_count']\n",
    "results = []\n",
    "\n",
    "# Iterate over each entry in the DataFrame\n",
    "for index, entry in data.iterrows():\n",
    "    message = entry['v2']  # Adjust 'v2' if necessary; it depends on your actual column name\n",
    "    label = entry['v1']  # Make sure to use the correct label column name\n",
    "    analysis = analyze_message(message)\n",
    "    results.append([message, label] + list(analysis))\n",
    "\n",
    "# Create a new DataFrame with the results\n",
    "df = pd.DataFrame(results, columns=columns)\n",
    "\n",
    "# Display the DataFrame\n",
    "print(df)\n",
    "\n"
   ]
  },
  {
   "cell_type": "code",
   "execution_count": null,
   "id": "d7caaba6-554c-4936-be0d-42d4d2408f8f",
   "metadata": {},
   "outputs": [],
   "source": []
  }
 ],
 "metadata": {
  "kernelspec": {
   "display_name": "Python 3 (ipykernel)",
   "language": "python",
   "name": "python3"
  },
  "language_info": {
   "codemirror_mode": {
    "name": "ipython",
    "version": 3
   },
   "file_extension": ".py",
   "mimetype": "text/x-python",
   "name": "python",
   "nbconvert_exporter": "python",
   "pygments_lexer": "ipython3",
   "version": "3.12.4"
  }
 },
 "nbformat": 4,
 "nbformat_minor": 5
}
